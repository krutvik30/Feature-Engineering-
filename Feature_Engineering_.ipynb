{
  "nbformat": 4,
  "nbformat_minor": 0,
  "metadata": {
    "colab": {
      "provenance": []
    },
    "kernelspec": {
      "name": "python3",
      "display_name": "Python 3"
    },
    "language_info": {
      "name": "python"
    }
  },
  "cells": [
    {
      "cell_type": "markdown",
      "source": [
        "1. What is a parameter?"
      ],
      "metadata": {
        "id": "ChhOE6T1CR3E"
      }
    },
    {
      "cell_type": "markdown",
      "source": [
        "=> A parameter is a variable in a machine learning model that is learned from the training data, such as weights in linear regression or neural networks."
      ],
      "metadata": {
        "id": "LGKha6BFCXMC"
      }
    },
    {
      "cell_type": "markdown",
      "source": [
        "2. What is correlation?\n"
      ],
      "metadata": {
        "id": "CXafRxNZCfJj"
      }
    },
    {
      "cell_type": "markdown",
      "source": [
        "=> Correlation is a statistical relationship between two variables, indicating how one variable changes in relation to another.\n",
        "\n"
      ],
      "metadata": {
        "id": "-S-L2LchChJ0"
      }
    },
    {
      "cell_type": "markdown",
      "source": [
        "What does negative correlation mean?"
      ],
      "metadata": {
        "id": "v0zaWS_vClF0"
      }
    },
    {
      "cell_type": "markdown",
      "source": [
        "=> Negative correlation means that as one variable increases, the other decreases.\n"
      ],
      "metadata": {
        "id": "gmcEJxS-Cpu6"
      }
    },
    {
      "cell_type": "markdown",
      "source": [
        "3. Define Machine Learning. What are the main components in Machine Learning?\n"
      ],
      "metadata": {
        "id": "r-4_7F-kCtfD"
      }
    },
    {
      "cell_type": "markdown",
      "source": [
        "=> Machine Learning is a branch of AI that enables systems to learn from data without being explicitly programmed.\n",
        "\n",
        "Main components:\n",
        "\n",
        "Data\n",
        "\n",
        "Model\n",
        "\n",
        "Loss Function\n",
        "\n",
        "Optimization Algorithm\n",
        "\n",
        "Evaluation Metrics\n",
        "\n"
      ],
      "metadata": {
        "id": "CDypGi7kCw5z"
      }
    },
    {
      "cell_type": "markdown",
      "source": [
        "4. How does loss value help in determining whether the model is good or not?\n"
      ],
      "metadata": {
        "id": "FSZ8MOcXCyRm"
      }
    },
    {
      "cell_type": "markdown",
      "source": [
        "=> Loss measures the error between predicted and actual values. A lower loss generally indicates a better model.\n",
        "\n"
      ],
      "metadata": {
        "id": "e_O7F2VvC0g6"
      }
    },
    {
      "cell_type": "markdown",
      "source": [
        "5. What are continuous and categorical variables?"
      ],
      "metadata": {
        "id": "kc8XCjgNC27B"
      }
    },
    {
      "cell_type": "markdown",
      "source": [
        "=> Continuous: Variables with numeric values on a scale (e.g., height, salary).\n",
        "\n",
        "Categorical: Variables with distinct categories (e.g., color, gender).\n",
        "\n"
      ],
      "metadata": {
        "id": "m9dBUlNHC45i"
      }
    },
    {
      "cell_type": "markdown",
      "source": [
        "6. How do we handle categorical variables in Machine Learning? What are the common techniques?"
      ],
      "metadata": {
        "id": "ma_zImw0C888"
      }
    },
    {
      "cell_type": "markdown",
      "source": [
        "=> Common techniques:\n",
        "\n",
        "Label Encoding\n",
        "\n",
        "One-Hot Encoding\n",
        "\n",
        "Ordinal Encoding\n",
        "\n"
      ],
      "metadata": {
        "id": "nLpAjSNbDBOf"
      }
    },
    {
      "cell_type": "code",
      "source": [
        "from sklearn.preprocessing import OneHotEncoder\n",
        "encoder = OneHotEncoder()\n",
        "encoded = encoder.fit_transform([['Red'], ['Green'], ['Blue']]).toarray()\n"
      ],
      "metadata": {
        "id": "eqNSJbvKDDlt"
      },
      "execution_count": 1,
      "outputs": []
    },
    {
      "cell_type": "markdown",
      "source": [
        "7. What do you mean by training and testing a dataset?"
      ],
      "metadata": {
        "id": "GwglfdyADMMJ"
      }
    },
    {
      "cell_type": "markdown",
      "source": [
        "=> Training set is used to train the model.\n",
        "\n",
        "Testing set is used to evaluate model performance on unseen data.\n",
        "\n"
      ],
      "metadata": {
        "id": "fdvdLF0BDPHQ"
      }
    },
    {
      "cell_type": "markdown",
      "source": [
        "8. What is sklearn.preprocessing?"
      ],
      "metadata": {
        "id": "bQ2E6-kHDRvU"
      }
    },
    {
      "cell_type": "markdown",
      "source": [
        "=> A scikit-learn module for preprocessing tasks like scaling, encoding, and transforming features for machine learning models.\n",
        "\n"
      ],
      "metadata": {
        "id": "rpOQ7_mCDTnp"
      }
    },
    {
      "cell_type": "markdown",
      "source": [
        "9. What is a Test set?\n"
      ],
      "metadata": {
        "id": "CVIZZANrDVeG"
      }
    },
    {
      "cell_type": "markdown",
      "source": [
        "=> A subset of the dataset used to evaluate the trained model's performance.\n",
        "\n"
      ],
      "metadata": {
        "id": "WTBlweAUDW3f"
      }
    },
    {
      "cell_type": "markdown",
      "source": [
        "10. How do we split data for model fitting (training and testing) in Python?"
      ],
      "metadata": {
        "id": "ObJ6eFnBDYZP"
      }
    },
    {
      "cell_type": "code",
      "source": [
        "from sklearn.model_selection import train_test_split\n",
        "X_train, X_test, y_train, y_test = train_test_split(X, y, test_size=0.2, random_state=1)\n"
      ],
      "metadata": {
        "id": "Wxw32Gp5DiKr"
      },
      "execution_count": null,
      "outputs": []
    },
    {
      "cell_type": "markdown",
      "source": [
        "How do you approach a Machine Learning problem?\n"
      ],
      "metadata": {
        "id": "r1qSu_KIDi2Z"
      }
    },
    {
      "cell_type": "markdown",
      "source": [
        "=>\n",
        "Define the problem\n",
        "\n",
        "Collect data\n",
        "\n",
        "Clean and preprocess data\n",
        "\n",
        "Explore data (EDA)\n",
        "\n",
        "Split data\n",
        "\n",
        "Choose and train model\n",
        "\n",
        "Evaluate model\n",
        "\n",
        "Tune and optimize\n",
        "\n"
      ],
      "metadata": {
        "id": "tbsoVljgDm5e"
      }
    },
    {
      "cell_type": "markdown",
      "source": [
        "11. Why do we have to perform EDA before fitting a model to the data?\n"
      ],
      "metadata": {
        "id": "WJuD7AS1Doex"
      }
    },
    {
      "cell_type": "markdown",
      "source": [
        "=> EDA (Exploratory Data Analysis) helps to understand patterns, detect outliers, visualize relationships, and prepare data effectively for modeling.\n",
        "\n"
      ],
      "metadata": {
        "id": "rWowlxBgDtAI"
      }
    },
    {
      "cell_type": "markdown",
      "source": [
        "12. What is correlation?"
      ],
      "metadata": {
        "id": "elAHYgkHHMBS"
      }
    },
    {
      "cell_type": "markdown",
      "source": [
        "=> Correlation is a statistical measure that describes the strength and direction of a relationship between two variables."
      ],
      "metadata": {
        "id": "lGvwUDzcHr76"
      }
    },
    {
      "cell_type": "markdown",
      "source": [
        "13. What does negative correlation mean?\n"
      ],
      "metadata": {
        "id": "6jxC6sDuHL7E"
      }
    },
    {
      "cell_type": "markdown",
      "source": [
        "=> Negative correlation means that as one variable increases, the other decreases.\n",
        "  "
      ],
      "metadata": {
        "id": "tqfhV4g7H3QX"
      }
    },
    {
      "cell_type": "markdown",
      "source": [
        "14. How can you find correlation between variables in Python?"
      ],
      "metadata": {
        "id": "0eezB4FlDudS"
      }
    },
    {
      "cell_type": "code",
      "source": [
        "import pandas as pd\n",
        "df = pd.read_csv('data.csv')\n",
        "correlation = df.corr()\n",
        "print(correlation)\n"
      ],
      "metadata": {
        "id": "PaqMeAydDygb"
      },
      "execution_count": null,
      "outputs": []
    },
    {
      "cell_type": "markdown",
      "source": [
        "15. What is causation? Explain difference between correlation and causation with an example.\n"
      ],
      "metadata": {
        "id": "FjHb0zrSDy77"
      }
    },
    {
      "cell_type": "markdown",
      "source": [
        "=> Correlation: Two variables move together (e.g., ice cream sales and drowning).\n",
        "\n",
        "Causation: One variable directly affects the other (e.g., smoking causes cancer).\n",
        "Correlation ≠ Causation.\n",
        "\n"
      ],
      "metadata": {
        "id": "z7bp8kxPD1cE"
      }
    },
    {
      "cell_type": "markdown",
      "source": [
        "16. What is an Optimizer? What are different types of optimizers? Explain each with an example.\n"
      ],
      "metadata": {
        "id": "lDDMi-MiD5sr"
      }
    },
    {
      "cell_type": "markdown",
      "source": [
        "=> An optimizer updates model parameters to reduce the loss function.\n",
        "\n",
        "Types:\n",
        "\n",
        "SGD (Stochastic Gradient Descent)\n",
        "\n",
        "Adam (Adaptive Moment Estimation)\n",
        "\n",
        "RMSprop\n",
        "\n"
      ],
      "metadata": {
        "id": "lzvHiwy_D6Qd"
      }
    },
    {
      "cell_type": "code",
      "source": [
        "An optimizer updates model parameters to reduce the loss function.\n",
        "\n",
        "Types:\n",
        "\n",
        "SGD (Stochastic Gradient Descent)\n",
        "\n",
        "Adam (Adaptive Moment Estimation)\n",
        "\n",
        "RMSprop\n",
        "\n"
      ],
      "metadata": {
        "id": "1f2_9N5dEAvd"
      },
      "execution_count": null,
      "outputs": []
    },
    {
      "cell_type": "markdown",
      "source": [
        "17. What is sklearn.linear_model?\n"
      ],
      "metadata": {
        "id": "CFyHTP5fEBUg"
      }
    },
    {
      "cell_type": "markdown",
      "source": [
        "=> A scikit-learn module for implementing linear models like LinearRegression and LogisticRegression.\n",
        "\n"
      ],
      "metadata": {
        "id": "3F33LJ_NEEBw"
      }
    },
    {
      "cell_type": "code",
      "source": [
        "from sklearn.linear_model import LinearRegression\n",
        "model = LinearRegression()\n"
      ],
      "metadata": {
        "id": "KXN9XjBMEIc4"
      },
      "execution_count": 5,
      "outputs": []
    },
    {
      "cell_type": "markdown",
      "source": [
        "18. What does model.fit() do? What arguments must be given?\n"
      ],
      "metadata": {
        "id": "9rrlc_z2EJt4"
      }
    },
    {
      "cell_type": "markdown",
      "source": [
        "=> model.fit(X, y) trains the model using features X and target y.\n",
        "\n"
      ],
      "metadata": {
        "id": "w2gqEkLcEKv9"
      }
    },
    {
      "cell_type": "markdown",
      "source": [
        "19. What does model.predict() do? What arguments must be given?\n"
      ],
      "metadata": {
        "id": "aVHEt5-bEMpT"
      }
    },
    {
      "cell_type": "markdown",
      "source": [
        "=> model.predict(X) predicts the target variable for the given features X using the trained model.\n",
        "\n"
      ],
      "metadata": {
        "id": "73UGJPNNEO_f"
      }
    },
    {
      "cell_type": "markdown",
      "source": [
        "20. What are continuous and categorical variables?"
      ],
      "metadata": {
        "id": "4f8E9bjdI1Eb"
      }
    },
    {
      "cell_type": "markdown",
      "source": [
        "=> Continuous variables are numerical values that can take any value within a range (e.g., height, temperature).\n",
        "Categorical variables represent distinct groups or categories (e.g., gender, color)."
      ],
      "metadata": {
        "id": "w9YC1CpMJdZU"
      }
    },
    {
      "cell_type": "markdown",
      "source": [
        "21. What is feature scaling? How does it help in Machine Learning?\n"
      ],
      "metadata": {
        "id": "rhzLsc1WEQ4K"
      }
    },
    {
      "cell_type": "markdown",
      "source": [
        "=> Feature scaling standardizes feature ranges so that no variable dominates others. It improves convergence and model accuracy.\n",
        "\n"
      ],
      "metadata": {
        "id": "hLJCqy62ETeB"
      }
    },
    {
      "cell_type": "markdown",
      "source": [
        "22 How do we perform scaling in Python?"
      ],
      "metadata": {
        "id": "I0kTVu52EU7G"
      }
    },
    {
      "cell_type": "code",
      "source": [
        "from sklearn.preprocessing import StandardScaler\n",
        "scaler = StandardScaler()\n",
        "X_scaled = scaler.fit_transform(X)\n"
      ],
      "metadata": {
        "id": "3X2qugEkEaRP"
      },
      "execution_count": null,
      "outputs": []
    },
    {
      "cell_type": "markdown",
      "source": [
        "23. What is sklearn.preprocessing?\n"
      ],
      "metadata": {
        "id": "QFM_mSG4I6f6"
      }
    },
    {
      "cell_type": "markdown",
      "source": [
        "=> sklearn.preprocessing is a module in scikit-learn that provides functions for preprocessing data, such as scaling, normalization, and encoding categorical variables."
      ],
      "metadata": {
        "id": "6ZrutWoEJk6r"
      }
    },
    {
      "cell_type": "markdown",
      "source": [
        "24. How do we split data for model fitting (training and testing) in Python?\n"
      ],
      "metadata": {
        "id": "3zVHkzW5I6Zy"
      }
    },
    {
      "cell_type": "code",
      "source": [
        "from sklearn.model_selection import train_test_split\n",
        "\n",
        "X_train, X_test, y_train, y_test = train_test_split(X, y, test_size=0.2, random_state=42)\n"
      ],
      "metadata": {
        "id": "88nnCXIWJrPe"
      },
      "execution_count": 8,
      "outputs": []
    },
    {
      "cell_type": "markdown",
      "source": [
        "25. Explain data encoding?\n"
      ],
      "metadata": {
        "id": "5zswT2VdEbD_"
      }
    },
    {
      "cell_type": "markdown",
      "source": [
        "=> Data encoding transforms categorical variables into numeric format so models can process them.\n",
        "\n",
        "Examples:\n",
        "\n",
        "Label Encoding\n",
        "\n",
        "One-Hot Encoding\n",
        "\n"
      ],
      "metadata": {
        "id": "cSGH5DILEfsT"
      }
    }
  ]
}